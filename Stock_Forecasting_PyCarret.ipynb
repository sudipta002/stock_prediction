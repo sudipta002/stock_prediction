{
 "cells": [
  {
   "cell_type": "code",
   "execution_count": null,
   "id": "325ff5f1",
   "metadata": {},
   "outputs": [],
   "source": [
    "#import \n",
    "import pandas as pd\n",
    "import json\n",
    "import datetime as dt\n",
    "from nsepy import get_history as stock_hist\n",
    "import numpy as np\n",
    "from pycaret.regression import *"
   ]
  },
  {
   "cell_type": "code",
   "execution_count": null,
   "id": "1e67b1ec",
   "metadata": {},
   "outputs": [],
   "source": [
    "#Utils functions\n",
    "def read_json(file_path):\n",
    "    with open(file_path, \"r\") as f:\n",
    "        return json.load(f)\n",
    "    \n",
    "def date_parser(dt):\n",
    "    dt = dt.split(',')\n",
    "    year = int(dt[0])\n",
    "    month = int(dt[1])\n",
    "    day = int(dt[2])\n",
    "    return year, month, day"
   ]
  },
  {
   "cell_type": "code",
   "execution_count": null,
   "id": "36befe1f",
   "metadata": {},
   "outputs": [],
   "source": [
    "config_file = read_json('config.json')"
   ]
  },
  {
   "cell_type": "code",
   "execution_count": null,
   "id": "2abad9fa",
   "metadata": {},
   "outputs": [],
   "source": [
    "symbol = config_file['symbol']\n",
    "\n",
    "y, m, d = date_parser(config_file['train_start_date'])\n",
    "train_start_date = dt.datetime(y,m,d)\n",
    "\n",
    "y, m, d = date_parser(config_file['train_end_date'])\n",
    "train_end_date = dt.datetime(y,m,d)\n",
    "\n",
    "y, m, d = date_parser(config_file['test_start_date'])\n",
    "test_start_date = dt.datetime(y,m,d)\n",
    "\n",
    "y, m, d = date_parser(config_file['test_end_date'])\n",
    "test_end_date = dt.datetime(y,m,d)"
   ]
  },
  {
   "cell_type": "code",
   "execution_count": null,
   "id": "ec432d4e",
   "metadata": {},
   "outputs": [],
   "source": [
    "#Setting start and end dates and fetching the historical data\n",
    "\n",
    "stk_data = stock_hist(symbol=symbol,start=train_start_date,end=test_end_date) #considering both train and test data"
   ]
  },
  {
   "cell_type": "code",
   "execution_count": null,
   "id": "6e3b0db6",
   "metadata": {},
   "outputs": [],
   "source": [
    "stk_data.head()"
   ]
  },
  {
   "cell_type": "code",
   "execution_count": null,
   "id": "7f5840a5",
   "metadata": {},
   "outputs": [],
   "source": [
    "stk_data['Date'] = stk_data.index\n",
    "data = pd.DataFrame(columns = ['Date', 'Open'])\n",
    "data['Date'] = stk_data['Date']\n",
    "data['Open'] = stk_data['Open']"
   ]
  },
  {
   "cell_type": "code",
   "execution_count": null,
   "id": "75e5a9e8",
   "metadata": {},
   "outputs": [],
   "source": [
    "# create 12 month moving average\n",
    "data['MA12'] = data['Open'].rolling(12).mean()\n",
    "# plot the data and MA\n",
    "import plotly.express as px\n",
    "fig = px.line(data, x='Date', y=[\"Open\",\"MA12\"], template = 'plotly_dark')\n",
    "fig.show()"
   ]
  },
  {
   "cell_type": "code",
   "execution_count": null,
   "id": "10e9a14d",
   "metadata": {},
   "outputs": [],
   "source": [
    "# extract month and year from dates\n",
    "data['Date'] = data.index\n",
    "data['Month'] = [i.month for i in data['Date']]\n",
    "data['Year'] = [i.year for i in data['Date']]\n",
    "data['Day'] = [i.day for i in data['Date']]\n",
    "# create a sequence of numbers\n",
    "data['Series'] = np.arange(1,len(data)+1)\n",
    "# drop unnecessary columns and re-arrange\n",
    "data = data[['Series', 'Year', 'Month','Day','Open']] \n",
    "# check the head of the dataset\n",
    "data.head()"
   ]
  },
  {
   "cell_type": "code",
   "execution_count": null,
   "id": "561d35e2",
   "metadata": {},
   "outputs": [],
   "source": [
    "data.tail()"
   ]
  },
  {
   "cell_type": "code",
   "execution_count": null,
   "id": "ff785724",
   "metadata": {},
   "outputs": [],
   "source": [
    "# split data into train-test set\n",
    "train = data[data['Year'] < 2020]\n",
    "test = data[data['Year'] >= 2020]\n",
    "# check shape\n",
    "train.shape, test.shape\n"
   ]
  },
  {
   "cell_type": "code",
   "execution_count": null,
   "id": "922afd6a",
   "metadata": {},
   "outputs": [],
   "source": [
    "# initialize setup\n",
    "s = setup(data = train, test_data = test, target = 'Passengers', fold_strategy = 'timeseries', \n",
    "          numeric_features = ['Year', 'Series'], fold = 3, transform_target = True, session_id = 123)"
   ]
  }
 ],
 "metadata": {
  "kernelspec": {
   "display_name": "Python 3 (ipykernel)",
   "language": "python",
   "name": "python3"
  },
  "language_info": {
   "codemirror_mode": {
    "name": "ipython",
    "version": 3
   },
   "file_extension": ".py",
   "mimetype": "text/x-python",
   "name": "python",
   "nbconvert_exporter": "python",
   "pygments_lexer": "ipython3",
   "version": "3.7.9"
  }
 },
 "nbformat": 4,
 "nbformat_minor": 5
}
